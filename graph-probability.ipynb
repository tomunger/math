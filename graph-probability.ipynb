{
  "cells": [
    {
      "cell_type": "code",
      "execution_count": null,
      "metadata": {
        "id": "UdT2MlZqPmeK"
      },
      "outputs": [],
      "source": [
        "\n",
        "\n",
        "# Import libraries\n",
        "import random\n",
        "import matplotlib.pyplot as plt\n",
        "import numpy as np"
      ]
    },
    {
      "cell_type": "code",
      "execution_count": null,
      "metadata": {
        "id": "by4cPKtOPmeL"
      },
      "outputs": [],
      "source": [
        "#\n",
        "# Multiple ways of modeling if a condition will or will not be met over a number of events.\n",
        "#\n",
        "\n",
        "\n",
        "def wont_model (probabilty: float, eventCount: int, iterations: int=500):\n",
        "\t\"\"\"Model condition not met over a number of events.  \n",
        "\t\tIn each run, each event is considered to not have condition until the condition \n",
        "\t\tis met.  Once condition is met, all subsequent runs are consider to have condition.\n",
        "\tParametes:\n",
        "\t\tprobability - the probabilty of the condition\n",
        "\t\teventCount - number of events.\n",
        "\t\titerations - number of sitmulation iterations to run.\n",
        "\tReturns\n",
        "\t\tnp array of probability for event.\t\n",
        "\t\t\"\"\"\n",
        "\ty = np.zeros(eventCount)\n",
        "\tfor i in range(iterations):\t\t\t\t\t\t\t\t\t\t# Run the specified number of simulations\n",
        "\t\tisEvent = False\t\t\t\t\t\t\t\t\t\t\t\t# start with the not the condition\n",
        "\t\tfor t in range(eventCount):\t\t\t\t\t\t\t\t\t\t# Step through the specified number of events.\n",
        "\t\t\tif random.random() < probabilty:\t\t\t\t\t\t# At each event, the condition may happen.  \n",
        "\t\t\t\tbreak\t\t\t\t\t\t\t\t\t\t\t\t# If it happens, we are done simulating this run and exit the loop\n",
        "\t\t\ty[t] += 1\t\t\t\t\t\t\t\t\t\t\t\t# Otherwise, count this event as not having the condition.\n",
        "\tr = y / iterations\t\t\t\t\t\t\t\t\t\t\t\t# Normalize to probabilities.\n",
        "\treturn r\n",
        "\n",
        "\n",
        "def wont_calculated(probability, eventCount):\n",
        "\t\"\"\"Calculate something not happening over a number of events.  \n",
        "\tParametes:\n",
        "\t\tprobability - the probabilty of the condition\n",
        "\t\teventCount - number of events.\n",
        "\tReturns\n",
        "\t\tnp array of probability for event.\t\n",
        "\t\t\"\"\"\n",
        "\tn = 1.0 - probability\t\t\t\t\t\t\t\t\t# Probability it won't happen, 'n', is opposite of the probibility it will\n",
        "\ty = np.zeros(eventCount)\t\t\t\t\n",
        "\tfor eventNum in range(1, eventCount+1):\n",
        "\t\ty[eventNum-1] = pow(n, eventNum)\t\t\t\t\t# For event 'i', the probability is n^eventNum\n",
        "\treturn y\n",
        "\n",
        "\n",
        "def will_model (probabilty: float, eventCount: int, iterations: int=500):\n",
        "\t\"\"\"Calculate a condition being met over a number of events.\n",
        "\t\tIf a condition is met for event 'i', it applies to all events > 'i'  \n",
        "\tParametes:\n",
        "\t\tprobability - the probabilty of the condition\n",
        "\t\teventCount - number of events.\n",
        "\tReturns\n",
        "\t\tnp array of probability for event.\t\n",
        "\t\t\"\"\"\n",
        "\ty = np.zeros(eventCount)\n",
        "\tfor i in range(iterations):\t\t\t\t\t\t\t\t\t\t# Run the specified number of simulations\n",
        "\t\tisEvent = False\t\t\t\t\t\t\t\t\t\t\t\t# start with the not the condition\n",
        "\t\tfor t in range(eventCount):\t\t\t\t\t\t\t\t\t\t# Step through the specified number of events.\n",
        "\t\t\tisEvent = isEvent or random.random() < probabilty\t\t# At each event, the condition may happen.  If it happened at a previous event, it still applies to this event.\n",
        "\t\t\tif isEvent:\t\t\t\t\t\t\t\t\t\t\t\t# so, if it applies to this event, \n",
        "\t\t\t\ty[t] += 1\t\t\t\t\t\t\t\t\t\t\t# then count the condition true at this event.\n",
        "\tr = y / iterations\t\t\t\t\t\t\t\t\t\t\t\t# Normalize to probabilities.\n",
        "\treturn r\n",
        "\n",
        "\n",
        "def will_calculated(probability, eventCount):\n",
        "\t\"\"\"Calculate that an event will happen\"\"\"\n",
        "\tw = wont_calculated(probability, eventCount)\t\t\t\t\t# First, calcualte the probability that it won't happen\n",
        "\treturn 1.0 - w\t\t\t\t\t\t\t\t\t\t\t# Now calculate the probability that it will \n",
        "\n"
      ]
    },
    {
      "cell_type": "code",
      "execution_count": null,
      "metadata": {
        "colab": {
          "base_uri": "https://localhost:8080/",
          "height": 592
        },
        "id": "6LOmUVciPmeN",
        "outputId": "bccf0d11-88c1-4f28-8da1-7ea9915a1e80"
      },
      "outputs": [],
      "source": [
        "'''\n",
        "Plotting is from examples athttps://www.geeksforgeeks.org/plot-mathematical-expressions-in-python-using-matplotlib/\n",
        "'''\n",
        "\n",
        "count = 20\t\t\t\t\t\t\t\t\t# Number of events to check\n",
        "x = np.arange(1,count+1,1)\t# X axis of events [1,count]\n",
        "\n",
        " \n",
        "fig = plt.figure(figsize = (20, 10))\n",
        "# Plot condition not met\n",
        "for p in (0.5, 0.25, 0.1):\n",
        "\tplt.plot(x, wont_model(p, count), \"+-\", label=f\"{p} won't model\")\n",
        "\tplt.plot(x, wont_calculated(p, count), \"^-\", label=f\"{p} won'tcalculated\")\n",
        "\n",
        "# Plot condition being met \n",
        "for p in (0.5, 0.25, 0.1):\n",
        "\tplt.plot(x, will_model(p, count), \"+-\", label=f\"{p} will modeled\")\n",
        "\tplt.plot(x, will_calculated(p, count), \"o-\", label=f\"{p} will calculated\")\n",
        "\n",
        "plt.grid(alpha =.6, linestyle ='--') \n",
        "plt.yticks(np.linspace(0,1,11))\n",
        "plt.xticks(x)\n",
        "plt.legend()\n",
        "# Show the plot\n",
        "plt.show()"
      ]
    }
  ],
  "metadata": {
    "colab": {
      "name": "graph-probability.ipynb",
      "provenance": []
    },
    "interpreter": {
      "hash": "e9835149636348eeabd5eb119a2b0d25a5f100b987d629189aa26e1a1529d3d5"
    },
    "kernelspec": {
      "display_name": "Python 3.8.12 64-bit ('math38B': pyenv)",
      "language": "python",
      "name": "python3"
    },
    "language_info": {
      "codemirror_mode": {
        "name": "ipython",
        "version": 3
      },
      "file_extension": ".py",
      "mimetype": "text/x-python",
      "name": "python",
      "nbconvert_exporter": "python",
      "pygments_lexer": "ipython3",
      "version": "3.8.12"
    },
    "orig_nbformat": 4
  },
  "nbformat": 4,
  "nbformat_minor": 0
}
