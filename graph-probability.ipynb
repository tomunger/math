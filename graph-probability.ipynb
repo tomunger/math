{
  "cells": [
    {
      "cell_type": "markdown",
      "metadata": {},
      "source": [
        "This work started with the question:  how many classes until my friend Andrew, who teaches at Western,\n",
        "is exposed to COVID in class?  A Georga Tech web site [estimates the risk of someone with COVID)[https://covid19risk.biosci.gatech.edu]\n",
        "attending one even.  How does that risk change over a series. of events.\n",
        "\n",
        "Start wth imports.  I used `numpy` which implements arrays and operatiosn on arrays.\n",
        "\n",
        "Plotting is based on (examples from geeks for geeks)[https://www.geeksforgeeks.org/plot-mathematical-expressions-in-python-using-matplotlib/]"
      ]
    },
    {
      "cell_type": "code",
      "execution_count": null,
      "metadata": {
        "id": "UdT2MlZqPmeK"
      },
      "outputs": [],
      "source": [
        "# Import libraries\n",
        "import random\n",
        "import matplotlib.pyplot as plt\n",
        "import numpy as np"
      ]
    },
    {
      "cell_type": "markdown",
      "metadata": {},
      "source": [
        "Some assumptions for the model"
      ]
    },
    {
      "cell_type": "code",
      "execution_count": null,
      "metadata": {},
      "outputs": [],
      "source": [
        "CLASSES=20\t\t\t# Number of classes in a semester\n",
        "SEMESTERS=750\t\t# Number of semesters that we run when modeling.\n",
        "PROBABILITIES=(0.5, 0.25, 0.1)\t# Exposure probabilities we are interested in.\n",
        "XAXIS = np.arange(1,CLASSES+1,1)\t# X axis of events [1,CLASSES]\n",
        "FIGSIZE = (20, 10)"
      ]
    },
    {
      "cell_type": "markdown",
      "metadata": {},
      "source": [
        "I didn't know how to calculate probability but I do know how to model that.  \n",
        "\n",
        "First, model the probability of exposuer.  In each semester, there is no exposure until the class in which\n",
        "an infected person attends.  That and all subsequent classes are counted as exposed."
      ]
    },
    {
      "cell_type": "code",
      "execution_count": null,
      "metadata": {
        "id": "by4cPKtOPmeL"
      },
      "outputs": [],
      "source": [
        "#\n",
        "# Multiple ways of modeling if a condition will or will not be met over a number of events.\n",
        "#\n",
        "def will_model (probabilty: float, classCount: int, iterations: int=500):\n",
        "\t\"\"\"Calculate a condition being met over a number of events.\n",
        "\t\tIf a condition is met for event 'i', it applies to all events > 'i'  \n",
        "\tParametes:\n",
        "\t\tprobability - the probabilty of the condition\n",
        "\t\tclassCount - number of events.\n",
        "\tReturns\n",
        "\t\tnp array of probability for event.\t\n",
        "\t\t\"\"\"\n",
        "\ty = np.zeros(classCount)\n",
        "\tfor i in range(iterations):\t\t\t\t\t\t\t\t\t\t# Run the specified number of simulations\n",
        "\t\tisEvent = False\t\t\t\t\t\t\t\t\t\t\t\t# start with the not the condition\n",
        "\t\tfor t in range(classCount):\t\t\t\t\t\t\t\t\t\t# Step through the specified number of events.\n",
        "\t\t\tisEvent = isEvent or random.random() < probabilty\t\t# At each event, the condition may happen.  If it happened at a previous event, it still applies to this event.\n",
        "\t\t\tif isEvent:\t\t\t\t\t\t\t\t\t\t\t\t# so, if it applies to this event, \n",
        "\t\t\t\ty[t] += 1\t\t\t\t\t\t\t\t\t\t\t# then CLASSES the condition true at this event.\n",
        "\tr = y / iterations\t\t\t\t\t\t\t\t\t\t\t\t# Normalize to probabilities.\n",
        "\treturn r"
      ]
    },
    {
      "cell_type": "markdown",
      "metadata": {},
      "source": [
        "Modeling the probability of no exposuer is done by counting each class as not exposed until an\n",
        "infected person attends.  "
      ]
    },
    {
      "cell_type": "code",
      "execution_count": null,
      "metadata": {},
      "outputs": [],
      "source": [
        "def wont_model (probabilty: float, classCount: int, iterations: int=500):\n",
        "\t\"\"\"Model condition not met over a number of events.  \n",
        "\t\tIn each run, each event is considered to not have condition until the condition \n",
        "\t\tis met.  Once condition is met, all subsequent runs are consider to have condition.\n",
        "\tParametes:\n",
        "\t\tprobability - the probabilty of the condition\n",
        "\t\tclassCount - number of events.\n",
        "\t\titerations - number of sitmulation iterations to run.\n",
        "\tReturns\n",
        "\t\tnp array of probability for event.\t\n",
        "\t\t\"\"\"\n",
        "\ty = np.zeros(classCount)\n",
        "\tfor i in range(iterations):\t\t\t\t\t\t\t\t\t\t# Run the specified number of simulations\n",
        "\t\tisEvent = False\t\t\t\t\t\t\t\t\t\t\t\t# start with the not the condition\n",
        "\t\tfor t in range(classCount):\t\t\t\t\t\t\t\t\t\t# Step through the specified number of events.\n",
        "\t\t\tif random.random() < probabilty:\t\t\t\t\t\t# At each event, the condition may happen.  \n",
        "\t\t\t\tbreak\t\t\t\t\t\t\t\t\t\t\t\t# If it happens, we are done simulating this run and exit the loop\n",
        "\t\t\ty[t] += 1\t\t\t\t\t\t\t\t\t\t\t\t# Otherwise, CLASSES this event as not having the condition.\n",
        "\tr = y / iterations\t\t\t\t\t\t\t\t\t\t\t\t# Normalize to probabilities.\n",
        "\treturn r"
      ]
    },
    {
      "cell_type": "markdown",
      "metadata": {},
      "source": [
        "Try modeling and plot the results"
      ]
    },
    {
      "cell_type": "code",
      "execution_count": null,
      "metadata": {},
      "outputs": [],
      "source": [
        "fig = plt.figure(figsize = FIGSIZE)\n",
        "for p in PROBABILITIES:\n",
        "\tplt.plot(XAXIS, wont_model(p, CLASSES), \"+-\", label=f\"{p} won't model\")\n",
        "\tplt.plot(XAXIS, will_model(p, CLASSES), \"+-\", label=f\"{p} will modeled\")\n",
        "\n",
        "plt.grid(alpha =.6, linestyle ='--') \n",
        "plt.yticks(np.linspace(0,1,11))\n",
        "plt.xticks(XAXIS)\n",
        "plt.legend()\n",
        "plt.show()"
      ]
    },
    {
      "cell_type": "markdown",
      "metadata": {},
      "source": [
        "# Calculation\n",
        "I don't know how to caculate the probability of getting exposed but I do know that the probability of\n",
        "not getting exposed is product of the probability of not getting exposed each class.  if `p` is the\n",
        "probability of exposure then the probability of not getting exposed is `1-p`.  And the probability\n",
        "of not getting exposed after `i` classe is\n",
        "\n",
        "\t(1-p)^i"
      ]
    },
    {
      "cell_type": "code",
      "execution_count": null,
      "metadata": {},
      "outputs": [],
      "source": [
        "def wont_calculated(probability, classCount):\n",
        "\t\"\"\"Calculate something not happening over a number of events.  \n",
        "\tParametes:\n",
        "\t\tprobability - the probabilty of the condition\n",
        "\t\tclassCount - number of events.\n",
        "\tReturns\n",
        "\t\tnp array of probability for event.\t\n",
        "\t\t\"\"\"\n",
        "\tn = 1.0 - probability\t\t\t\t\t\t\t\t\t# Probability it won't happen, 'n', is opposite of the probibility it will\n",
        "\ty = np.zeros(classCount)\t\t\t\t\n",
        "\tfor classNum in range(1, classCount+1):\n",
        "\t\ty[classNum-1] = pow(n, classNum)\t\t\t\t\t# For event 'i', the probability is n^eventNum\n",
        "\treturn y"
      ]
    },
    {
      "cell_type": "markdown",
      "metadata": {},
      "source": [
        "The probability of not getting exposed is `1 - probability of getting exposed`.\n",
        "\n",
        "Using this feels like a bit of a trick.  It seems like there shold be a direct way to calculate the probability\n",
        "of something happening over a series of events.  However, taking the inverse of it not happening is a very\n",
        "simple callcuation."
      ]
    },
    {
      "cell_type": "code",
      "execution_count": null,
      "metadata": {},
      "outputs": [],
      "source": [
        "def will_calculated(probability, classCount):\n",
        "\t\"\"\"Calculate that an event will happen\"\"\"\n",
        "\tw = wont_calculated(probability, classCount)\t\t\t# First, calcualte the probability that it won't happen\n",
        "\treturn 1.0 - w\t\t\t\t\t\t\t\t\t\t\t# Probability of getting exposed (operates on every array element)"
      ]
    },
    {
      "cell_type": "markdown",
      "metadata": {},
      "source": [
        "Now plot the models and claculations."
      ]
    },
    {
      "cell_type": "code",
      "execution_count": null,
      "metadata": {
        "colab": {
          "base_uri": "https://localhost:8080/",
          "height": 592
        },
        "id": "6LOmUVciPmeN",
        "outputId": "bccf0d11-88c1-4f28-8da1-7ea9915a1e80"
      },
      "outputs": [],
      "source": [
        "fig = plt.figure(figsize = FIGSIZE)\n",
        "for p in PROBABILITIES:\n",
        "\tplt.plot(XAXIS, wont_model(p, CLASSES), \"+-\", label=f\"{p} won't model\")\n",
        "\tplt.plot(XAXIS, wont_calculated(p, CLASSES), \"^-\", label=f\"{p} won'tcalculated\")\n",
        "\tplt.plot(XAXIS, will_model(p, CLASSES), \"+-\", label=f\"{p} will modeled\")\n",
        "\tplt.plot(XAXIS, will_calculated(p, CLASSES), \"o-\", label=f\"{p} will calculated\")\n",
        "\n",
        "plt.grid(alpha =.6, linestyle ='--') \n",
        "plt.yticks(np.linspace(0,1,11))\n",
        "plt.xticks(XAXIS)\n",
        "plt.legend()\n",
        "plt.show()"
      ]
    }
  ],
  "metadata": {
    "colab": {
      "name": "graph-probability.ipynb",
      "provenance": []
    },
    "interpreter": {
      "hash": "e9835149636348eeabd5eb119a2b0d25a5f100b987d629189aa26e1a1529d3d5"
    },
    "kernelspec": {
      "display_name": "Python 3.8.12 64-bit ('math38B': pyenv)",
      "language": "python",
      "name": "python3"
    },
    "language_info": {
      "codemirror_mode": {
        "name": "ipython",
        "version": 3
      },
      "file_extension": ".py",
      "mimetype": "text/x-python",
      "name": "python",
      "nbconvert_exporter": "python",
      "pygments_lexer": "ipython3",
      "version": "3.8.12"
    },
    "orig_nbformat": 4
  },
  "nbformat": 4,
  "nbformat_minor": 0
}
