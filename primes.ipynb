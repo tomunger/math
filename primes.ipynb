{
 "cells": [
  {
   "cell_type": "code",
   "execution_count": 2,
   "metadata": {},
   "outputs": [],
   "source": [
    "from typing import List\n",
    "import numpy as np\n",
    "import pandas as pd\n",
    "import matplotlib.pyplot as plt\n",
    "import plotly.express as px\n",
    "\n",
    "import primes"
   ]
  },
  {
   "cell_type": "code",
   "execution_count": 3,
   "metadata": {},
   "outputs": [
    {
     "name": "stdout",
     "output_type": "stream",
     "text": [
      "168 primes, max: 997\n"
     ]
    }
   ],
   "source": [
    "# Generate Primes\n",
    "\n",
    "# 'P' is a list of prime numbers.\n",
    "\n",
    "RANGE_END = 1000\n",
    "nums = range(2, RANGE_END)\n",
    "P = primes.gen_primes_sieve_to(max(nums))\n",
    "print (f\"{len(P)} primes, max: {P[-1]}\")\n"
   ]
  },
  {
   "cell_type": "code",
   "execution_count": 4,
   "metadata": {},
   "outputs": [],
   "source": [
    "# Factor each prime.\n",
    "# 'factors' a list, each element is a tuple of:\n",
    "#\t\t( prime, [list of factors])\n",
    "#\n",
    "factors = []\n",
    "\n",
    "for n in nums:\n",
    "\tif not n in P:\n",
    "\t\tfactors.append( (n, primes.find_factors_fwdall(n)) )\n"
   ]
  },
  {
   "cell_type": "code",
   "execution_count": 5,
   "metadata": {},
   "outputs": [],
   "source": [
    "#\n",
    "# Test each factoring\n",
    "# AND\n",
    "# convert factors to the prime powers.\n",
    "\n",
    "\n",
    "\n",
    "for q in factors:\n",
    "\t#print(f\"{q[0]} factors {q[1]}\")\n",
    "\n",
    "\t# Test the factoring.\n",
    "\tprod = 1\n",
    "\tfor p in q[1]:\n",
    "\t\t# Each factor must be a prime\n",
    "\t\tif not p in P:\t\t\t\t\t\n",
    "\t\t\tprint (f\"Not prime {p}\")\n",
    "\t\tprod *= p\n",
    "\t# product of the factors must be the number.\n",
    "\tif prod != q[0]:\n",
    "\t\tprint (f\"  product of factors is not correct:  {prod}\")\n",
    "\n",
    "\t# Find factors using a different algorithm.\n",
    "\t# Must be the same.\n",
    "\trevfactros = primes.find_factors_rev(q[0], P)\n",
    "\trevfactros.sort()\n",
    "\tif revfactros != q[1]:\n",
    "\t\tprint (f\"  reverse factors are not correct:  {revfactros}\")\n",
    "\n"
   ]
  },
  {
   "cell_type": "code",
   "execution_count": 6,
   "metadata": {},
   "outputs": [],
   "source": [
    "#\n",
    "# Build two DataFrames.\n",
    "# powersdf has\n",
    "#\tcolumns - the prime numbers from 'P'\n",
    "#\tindex - the composit (non prime) numbers\n",
    "# \tEach row is the factoring expressed as the power of each prime\n",
    "#\n",
    "# plotabledf is a plotable representation.  Each row is one plotable point with the columns:\n",
    "# \tNumber - the composit number\n",
    "#\tFactor - one of the composit number's prime factors\n",
    "#\tPower - That prime's power - how many times it appears as a factor.\n",
    "#\n",
    "#powers = []\n",
    "powersdf = pd.DataFrame(columns=P, index=[q[0] for q in factors])\t# and then a dataframe\n",
    "plotablepoints = []\n",
    "for q in factors:\n",
    "\tp = primes.primes_to_powers(q[1], P)\n",
    "\t#powers.append(p)\n",
    "\tpowersdf.loc[q[0]] = p\n",
    "\tfor i in range(len(p)):\n",
    "\t\tif p[i] > 0:\n",
    "\t\t\tplotablepoints.append([q[0], P[i], p[i]])\n",
    "\n",
    "plotabledf = pd.DataFrame(plotablepoints, columns=[\"Number\", \"Factor\", \"Power\"])\n",
    "plotablepoints = None\n",
    "p = None"
   ]
  },
  {
   "cell_type": "markdown",
   "metadata": {},
   "source": [
    "# Convert zero to NA\n",
    "\tnadf = powersdf.applymap(lambda f: f if f > 0 else pd.NA)\n",
    "\tprint (nadf)"
   ]
  },
  {
   "cell_type": "code",
   "execution_count": 7,
   "metadata": {},
   "outputs": [
    {
     "ename": "NameError",
     "evalue": "name 'powers' is not defined",
     "output_type": "error",
     "traceback": [
      "\u001b[0;31m---------------------------------------------------------------------------\u001b[0m",
      "\u001b[0;31mNameError\u001b[0m                                 Traceback (most recent call last)",
      "Cell \u001b[0;32mIn[7], line 7\u001b[0m\n\u001b[1;32m      1\u001b[0m \u001b[38;5;66;03m#\u001b[39;00m\n\u001b[1;32m      2\u001b[0m \u001b[38;5;66;03m# Take the powers python array and make factors pandas dataframe\u001b[39;00m\n\u001b[1;32m      3\u001b[0m \u001b[38;5;66;03m# where columns are prime numbers, rows are integers, and cell values\u001b[39;00m\n\u001b[1;32m      4\u001b[0m \u001b[38;5;66;03m# are the power of prime.  product of primes raised to powers are the \u001b[39;00m\n\u001b[1;32m      5\u001b[0m \u001b[38;5;66;03m# index integer.\u001b[39;00m\n\u001b[1;32m      6\u001b[0m \u001b[38;5;66;03m#\u001b[39;00m\n\u001b[0;32m----> 7\u001b[0m powersnp \u001b[38;5;241m=\u001b[39m np\u001b[38;5;241m.\u001b[39marray(\u001b[43mpowers\u001b[49m)\t\t\t\t\t\t\t\t\t\t\u001b[38;5;66;03m# Make a numpy array\u001b[39;00m\n\u001b[1;32m      8\u001b[0m df \u001b[38;5;241m=\u001b[39m pd\u001b[38;5;241m.\u001b[39mDataFrame(powers, columns\u001b[38;5;241m=\u001b[39mP, index\u001b[38;5;241m=\u001b[39m[q[\u001b[38;5;241m0\u001b[39m] \u001b[38;5;28;01mfor\u001b[39;00m q \u001b[38;5;129;01min\u001b[39;00m factors])\t\u001b[38;5;66;03m# and then a dataframe\u001b[39;00m\n\u001b[1;32m      9\u001b[0m \u001b[38;5;28mprint\u001b[39m (df\u001b[38;5;241m.\u001b[39mshape)\n",
      "\u001b[0;31mNameError\u001b[0m: name 'powers' is not defined"
     ]
    }
   ],
   "source": [
    "\n",
    "#\n",
    "# Take the powers python array and make factors pandas dataframe\n",
    "# where columns are prime numbers, rows are integers, and cell values\n",
    "# are the power of prime.  product of primes raised to powers are the \n",
    "# index integer.\n",
    "#\n",
    "powersnp = np.array(powers)\t\t\t\t\t\t\t\t\t\t# Make a numpy array\n",
    "df = pd.DataFrame(powers, columns=P, index=[q[0] for q in factors])\t# and then a dataframe\n",
    "print (df.shape)\n",
    "Pr = P.copy()\t\t\t\t\t\t\t\t\t\t\t\t\t# Create a copy of the list of primes\n",
    "Pr.reverse()\t\t\t\t\t\t\t\t\t\t\t\t\t# and reverse that \n",
    "for p in Pr:\t\t\t\t\t\t\t\t\t\t\t\t\t# so we can search from largest to smallest\n",
    "\t# print (f\"{p} {df[p].sum()}\")\t\t\n",
    "\tif df[p].sum() == 0:\t\t\t\t\t\t\t\t\t\t# If the column contains no powers\n",
    "\t\tdf.drop(p, axis='columns', inplace=True)\t\t\t\t#   we drop that column\n",
    "\telse:\n",
    "\t\tbreak\t\t\t\t\t\t\t\t\t\t\t\t\t#   otherwise, we have reached the largest prime used and exit the loop\n",
    "print (df.shape)\n",
    "df.to_csv(\"local-primefactors.csv\")\n",
    "\n"
   ]
  },
  {
   "cell_type": "code",
   "execution_count": null,
   "metadata": {},
   "outputs": [],
   "source": [
    "#\n",
    "# Convert a dataframe into structure that can be 3D plotted.\n",
    "#\n",
    "\n",
    "def plottable_3d_info(df: pd.DataFrame):\n",
    "    \"\"\"\n",
    "    Transform Pandas data into a format that's compatible with\n",
    "    Matplotlib's surface and wireframe plotting.\n",
    "    \"\"\"\n",
    "    index = df.index\n",
    "    columns = df.columns\n",
    "\n",
    "    x, y = np.meshgrid(np.arange(len(columns)), np.arange(len(index)))\n",
    "    z = np.array([[df[c][i] for c in columns] for i in index])\n",
    "    \n",
    "    xticks = dict(ticks=np.arange(len(columns)), labels=columns)\n",
    "    yticks = dict(ticks=np.arange(len(index)), labels=index)\n",
    "    \n",
    "    return x, y, z, xticks, yticks\n"
   ]
  },
  {
   "cell_type": "code",
   "execution_count": null,
   "metadata": {},
   "outputs": [],
   "source": [
    "# Use the function above to arrange data for plotting.\n",
    "x, y, z, xticks, yticks = plottable_3d_info(df)"
   ]
  },
  {
   "cell_type": "markdown",
   "metadata": {},
   "source": []
  },
  {
   "cell_type": "code",
   "execution_count": null,
   "metadata": {},
   "outputs": [],
   "source": [
    "plotabledf['Power'].max()"
   ]
  },
  {
   "cell_type": "code",
   "execution_count": null,
   "metadata": {},
   "outputs": [],
   "source": [
    "### Set up axes and put data on the surface.\n",
    "fig = plt.figure(figsize=(50,50))\n",
    "axes = fig.add_subplot(projection='3d')\n",
    "#axes.scatter(plotabledf[\"Number\"], plotabledf[\"Factor\"], plotabledf[\"Power\"], c=plotabledf[\"Factor\"])\n",
    "axes.stem3D(plotabledf[\"Factor\"], plotabledf[\"Number\"], plotabledf[\"Power\"])\n",
    "\n",
    "# How to reverse an axes:  axes.set_xlim(plotabledf['Number'].max(), 0)\n",
    "axes.set_xlabel('Factor')\n",
    "axes.set_ylabel('Number')\n",
    "axes.set_zlabel('Power')\n",
    "axes.set_zlim3d(bottom=0)\n",
    "axes.set_zticks(np.arange(plotabledf['Power'].max()+1))\t\t\t# Z tick every number.\n",
    "\n",
    "plt.show()"
   ]
  },
  {
   "cell_type": "code",
   "execution_count": null,
   "metadata": {},
   "outputs": [],
   "source": [
    "### Set up axes and put data on the surface.\n",
    "plt.close()\n",
    "fig = plt.figure(figsize=(50,50))\n",
    "axes = fig.add_subplot()\n",
    "#axes.scatter(plotabledf[\"Number\"], plotabledf[\"Factor\"], plotabledf[\"Power\"], c=plotabledf[\"Factor\"])\n",
    "axes.scatter(plotabledf[\"Number\"], plotabledf[\"Factor\"], c=plotabledf[\"Power\"])\n",
    "\n",
    "# How to reverse an axes:  axes.set_xlim(plotabledf['Number'].max(), 0)\n",
    "axes.set_xlabel('Number')\n",
    "axes.set_ylabel('Factor')\n",
    "\n",
    "plt.colorbar()\n",
    "\n",
    "plt.show()"
   ]
  },
  {
   "cell_type": "code",
   "execution_count": null,
   "metadata": {},
   "outputs": [],
   "source": [
    "\n",
    "fig = px.scatter_3d(x = plotabledf[\"Number\"], y=plotabledf[\"Factor\"], z=plotabledf[\"Power\"])\n",
    "fig.update_layout(width=1000, height=1000)\n",
    "fig.update_traces(marker_size=2, marker_color='green')\n",
    "fig.show()\n",
    "fig.write_html(\"jj.html\")"
   ]
  }
 ],
 "metadata": {
  "kernelspec": {
   "display_name": ".venv",
   "language": "python",
   "name": "python3"
  },
  "language_info": {
   "codemirror_mode": {
    "name": "ipython",
    "version": 3
   },
   "file_extension": ".py",
   "mimetype": "text/x-python",
   "name": "python",
   "nbconvert_exporter": "python",
   "pygments_lexer": "ipython3",
   "version": "3.12.7"
  },
  "orig_nbformat": 4
 },
 "nbformat": 4,
 "nbformat_minor": 2
}
